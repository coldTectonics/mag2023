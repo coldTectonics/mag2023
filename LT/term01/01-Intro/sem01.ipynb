{
 "cells": [
  {
   "cell_type": "markdown",
   "metadata": {
    "id": "pN8sYFCvebyD"
   },
   "source": [
    "## Немного о том, что можно делать с помощью питона с языком"
   ]
  },
  {
   "cell_type": "code",
   "execution_count": null,
   "metadata": {
    "id": "uwVQDqmgcUkM"
   },
   "outputs": [],
   "source": [
    "!pip install rnnmorph\n",
    "!pip install natasha\n",
    "!pip install razdel\n",
    "!pip install transformers"
   ]
  },
  {
   "cell_type": "markdown",
   "metadata": {
    "id": "VrlA3BicenRa"
   },
   "source": [
    "Можно получать автоматическую морфо- и синтаксическую разметку. Для этого существует довольно много инструментов. Например, для русского языка есть такие:"
   ]
  },
  {
   "cell_type": "code",
   "execution_count": null,
   "metadata": {
    "id": "wJxDyQofdWZN"
   },
   "outputs": [],
   "source": [
    "from natasha import (\n",
    "    Segmenter,\n",
    "    \n",
    "    NewsEmbedding,\n",
    "    NewsMorphTagger,\n",
    "    NewsSyntaxParser,\n",
    "    \n",
    "    Doc\n",
    ")"
   ]
  },
  {
   "cell_type": "code",
   "execution_count": null,
   "metadata": {
    "id": "iNSMHPeadZVy"
   },
   "outputs": [],
   "source": [
    "segmenter = Segmenter()\n",
    "emb = NewsEmbedding()\n",
    "morph_tagger = NewsMorphTagger(emb)\n",
    "syntax_parser = NewsSyntaxParser(emb)\n",
    "\n",
    "text = '29 марта 2017 года правительство Великобритании инициировало процедуру выхода в соответствии со статьёй 50 Договора о Европейском союзе; первоначально планировалось, что Великобритания покинет Европейский союз через два года, 29 марта 2019 года в 23:00 по Гринвичу.'\n",
    "doc = Doc(text)\n",
    "\n",
    "doc.segment(segmenter)\n",
    "doc.tag_morph(morph_tagger)\n",
    "doc.parse_syntax(syntax_parser)\n",
    "sent = doc.sents[0]\n",
    "sent.morph.print()"
   ]
  },
  {
   "cell_type": "code",
   "execution_count": null,
   "metadata": {
    "id": "z5V4p-nVeMMh"
   },
   "outputs": [],
   "source": [
    "from rnnmorph.predictor import RNNMorphPredictor\n",
    "\n",
    "predictor = RNNMorphPredictor(language='ru')\n",
    "print([w.normal_form for w in predictor.predict(text.split())])"
   ]
  },
  {
   "cell_type": "code",
   "execution_count": null,
   "metadata": {
    "id": "0lJDo7LqdrWy"
   },
   "outputs": [],
   "source": [
    "sent.syntax.print()"
   ]
  },
  {
   "cell_type": "markdown",
   "metadata": {
    "id": "N2gwNpbsfUQL"
   },
   "source": [
    "Также можно автоматически извлекать имена, названия и другие подобные вещи (их называют именованными сущностями -- это важная задача в NLP)"
   ]
  },
  {
   "cell_type": "code",
   "execution_count": null,
   "metadata": {
    "id": "ENBLEscydwGi"
   },
   "outputs": [],
   "source": [
    "from natasha import NewsNERTagger\n",
    "\n",
    "ner_tagger = NewsNERTagger(emb)\n",
    "doc.tag_ner(ner_tagger)\n",
    "doc.ner.print()"
   ]
  },
  {
   "cell_type": "markdown",
   "metadata": {
    "id": "5QpJhV-rf3PK"
   },
   "source": [
    "Можно автоматически собирать большие коллекции текстов и обрабатывать их в удобном табличном виде:"
   ]
  },
  {
   "cell_type": "code",
   "execution_count": null,
   "metadata": {
    "id": "xR4ta00kfumb"
   },
   "outputs": [],
   "source": [
    "from google.colab import drive\n",
    "drive.mount('/content/drive')"
   ]
  },
  {
   "cell_type": "code",
   "execution_count": null,
   "metadata": {
    "id": "eeHpFQC_f-nk"
   },
   "outputs": [],
   "source": [
    "import pandas as pd"
   ]
  },
  {
   "cell_type": "code",
   "execution_count": null,
   "metadata": {
    "id": "Zj-70_FBjj1b"
   },
   "outputs": [],
   "source": [
    "import os\n",
    "import razdel\n",
    "\n",
    "files = os.listdir('/content/drive/MyDrive/group_corpus')\n",
    "texts = []\n",
    "for file in files:\n",
    "  if not file.endswith('txt'):\n",
    "    continue\n",
    "  path = os.path.join('/content/drive/MyDrive/group_corpus', file)\n",
    "  with open(path) as f:\n",
    "    texts.extend([sent.text for sent in razdel.sentenize(f.read())])\n",
    "df = pd.DataFrame(texts)\n",
    "pd.set_option('display.max_colwidth', None)\n",
    "df.head()"
   ]
  },
  {
   "cell_type": "markdown",
   "metadata": {
    "id": "hrzrIGj0ptm3"
   },
   "source": [
    "Ну и наконец, можно играться с нейронными сетями, например, генерировать тексты на основе учебника Я.Г. Тестельца..."
   ]
  },
  {
   "cell_type": "code",
   "execution_count": null,
   "metadata": {
    "id": "mUAUrcnupEuo"
   },
   "outputs": [],
   "source": [
    "%cd /content/drive/MyDrive/gpt2test \n",
    "!python generate_transformers.py \\\n",
    "    --model_type=gpt2 \\\n",
    "    --model_name_or_path=comment_model \\\n",
    "    --k=5 \\\n",
    "    --p=0.95 \\\n",
    "    --length=70"
   ]
  }
 ],
 "metadata": {
  "colab": {
   "authorship_tag": "ABX9TyMM4X7QJPL/oM+22ALxCcVj",
   "provenance": []
  },
  "kernelspec": {
   "display_name": "Python 3 (ipykernel)",
   "language": "python",
   "name": "python3"
  },
  "language_info": {
   "codemirror_mode": {
    "name": "ipython",
    "version": 3
   },
   "file_extension": ".py",
   "mimetype": "text/x-python",
   "name": "python",
   "nbconvert_exporter": "python",
   "pygments_lexer": "ipython3",
   "version": "3.9.12"
  }
 },
 "nbformat": 4,
 "nbformat_minor": 4
}
