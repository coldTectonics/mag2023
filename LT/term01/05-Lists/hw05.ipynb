{
 "cells": [
  {
   "cell_type": "markdown",
   "id": "75df1240-414b-4e93-8cc4-6e4e2091cae0",
   "metadata": {},
   "source": [
    "#### Задача 1. \n",
    "\n",
    "Дан список. Выведите те его элементы, которые встречаются в списке только один раз. Элементы нужно выводить в том порядке, в котором они встречаются в списке."
   ]
  },
  {
   "cell_type": "code",
   "execution_count": null,
   "id": "09ef877b-5412-4ccb-b546-fa32a3782d62",
   "metadata": {},
   "outputs": [],
   "source": [
    " # your code here"
   ]
  },
  {
   "cell_type": "markdown",
   "id": "7f708d7a-5eaf-4773-bf75-0e28cd022bf7",
   "metadata": {},
   "source": [
    "#### Задача 2. \n",
    "\n",
    "Напишите функцию, которая будет принимать строчку и возвращать список, состоящий из порядковых номеров в юникоде всех букв из строчки. "
   ]
  },
  {
   "cell_type": "code",
   "execution_count": null,
   "id": "4230fedb-368a-4fdf-82b5-bdb9ed2a114c",
   "metadata": {},
   "outputs": [],
   "source": [
    " # your code here"
   ]
  },
  {
   "cell_type": "markdown",
   "id": "18ff9b08-4592-4954-9cc4-a88f3f8827f1",
   "metadata": {},
   "source": [
    "#### Задача 3. \n",
    "\n",
    "Дан список, упорядоченный по неубыванию элементов в нем (то есть, например, 1 1 1 2 2 3 3 3). Определите, сколько в нем различных элементов."
   ]
  },
  {
   "cell_type": "code",
   "execution_count": null,
   "id": "42345cb0-e1cb-4d39-a9d1-725838870ad8",
   "metadata": {},
   "outputs": [],
   "source": [
    " # your code here"
   ]
  },
  {
   "cell_type": "markdown",
   "id": "96ec9c3c-5508-481c-8386-7d0cbcbd87c2",
   "metadata": {},
   "source": [
    "#### Задача 4. \n",
    "\n",
    "Сортировка с ё: дан список слов, которые нужно отсортировать по алфавиту таким образом, чтобы слова с буквой ё вставали в правильные места. Нужно использовать параметр key и написать свою дополнительную функцию, которую в него передавать. "
   ]
  },
  {
   "cell_type": "code",
   "execution_count": null,
   "id": "a2746d25-1a10-42b5-a57f-ea3809c276bf",
   "metadata": {},
   "outputs": [],
   "source": [
    " # your code here"
   ]
  },
  {
   "cell_type": "markdown",
   "id": "454cae5c-8dcf-48af-9882-a77b53f66bf7",
   "metadata": {},
   "source": [
    "#### Задача 5. \n",
    "\n",
    "Зализняк: отсортируйте список слов в алфавитном порядке, но с конца, как в словаре Зализняка. Например, слова \"арзуз, вася, мама\" выстроятся как \"мама, арбуз, вася\". "
   ]
  },
  {
   "cell_type": "code",
   "execution_count": null,
   "id": "20266739-9101-4a86-9ebb-c416ca260ed8",
   "metadata": {},
   "outputs": [],
   "source": [
    " # your code here"
   ]
  }
 ],
 "metadata": {
  "kernelspec": {
   "display_name": "Python 3 (ipykernel)",
   "language": "python",
   "name": "python3"
  },
  "language_info": {
   "codemirror_mode": {
    "name": "ipython",
    "version": 3
   },
   "file_extension": ".py",
   "mimetype": "text/x-python",
   "name": "python",
   "nbconvert_exporter": "python",
   "pygments_lexer": "ipython3",
   "version": "3.9.12"
  }
 },
 "nbformat": 4,
 "nbformat_minor": 5
}
